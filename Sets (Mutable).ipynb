{
 "cells": [
  {
   "cell_type": "markdown",
   "id": "b6a7907a",
   "metadata": {},
   "source": [
    "# Sets"
   ]
  },
  {
   "cell_type": "markdown",
   "id": "5e73dfb6",
   "metadata": {},
   "source": [
    "What is Sets?\n",
    "\n",
    "- Sets are unordered.\n",
    "- Set elements are unique. Duplicate elements are not allowed.\n",
    "- A set itself may be modified, but the elements contained in the set must be of an immutable type.\n",
    "- Sets can be used to perform mathematical set operations like union, intersection, symmetric difference etc."
   ]
  },
  {
   "cell_type": "code",
   "execution_count": 3,
   "id": "89bb6a1a",
   "metadata": {},
   "outputs": [
    {
     "name": "stdout",
     "output_type": "stream",
     "text": [
      "{'a', 'b', 'c'}\n",
      "<class 'set'>\n"
     ]
    }
   ],
   "source": [
    "myset = set([\"a\", \"b\", \"c\"])     # creating a set with set() function\n",
    "print(myset)\n",
    "print(type(myset))"
   ]
  },
  {
   "cell_type": "code",
   "execution_count": 2,
   "id": "d4a06cf7",
   "metadata": {},
   "outputs": [
    {
     "name": "stdout",
     "output_type": "stream",
     "text": [
      "<class 'dict'>\n"
     ]
    }
   ],
   "source": [
    "a={}\n",
    "print(type(a))"
   ]
  },
  {
   "cell_type": "code",
   "execution_count": 4,
   "id": "2fb77393",
   "metadata": {},
   "outputs": [
    {
     "name": "stdout",
     "output_type": "stream",
     "text": [
      "{0, 1, 2, 3, 4, 5, 6, 7, 8, 9}\n",
      "<class 'set'>\n"
     ]
    }
   ],
   "source": [
    "s={1,1,1,1,2,2,3,4,5,3,4,6,3,7,4,7,3,1,1,2,3,5,7,6,5,8,0,8,9,7,8,0,8,7,6,4,3}\n",
    "print(s)\n",
    "print(type(s))"
   ]
  },
  {
   "cell_type": "code",
   "execution_count": 9,
   "id": "c4aec0fb",
   "metadata": {},
   "outputs": [
    {
     "name": "stdout",
     "output_type": "stream",
     "text": [
      "<class 'list'>\n",
      "[0, 1, 2, 3, 4, 5, 6, 7, 8, 9]\n"
     ]
    },
    {
     "data": {
      "text/plain": [
       "9"
      ]
     },
     "execution_count": 9,
     "metadata": {},
     "output_type": "execute_result"
    }
   ],
   "source": [
    "x=[1,1,1,1,2,2,3,4,5,3,4,6,3,7,4,7,3,1,1,2,3,5,7,6,5,8,0,8,9,7,8,0,8,7,6,4,3]\n",
    "print(type(x))\n",
    "print(list(set(x)))\n",
    "max(x)"
   ]
  },
  {
   "cell_type": "code",
   "execution_count": 8,
   "id": "11cea92a",
   "metadata": {},
   "outputs": [
    {
     "name": "stdout",
     "output_type": "stream",
     "text": [
      "[1, 2, 3, 4, 5, 6, 7, 8, 0, 9]\n",
      "[0, 1, 2, 3, 4, 5, 6, 7, 8, 9]\n",
      "0\n",
      "9\n"
     ]
    }
   ],
   "source": [
    "x=[1,1,1,1,2,2,3,4,5,3,4,6,3,7,4,7,3,1,1,2,3,5,7,6,5,8,0,8,9,7,8,0,8,7,6,4,3]\n",
    "a=[]\n",
    "for i in x:\n",
    "    if i not in a:\n",
    "        a=a+[i]\n",
    "print(a)\n",
    "print(sorted(a))\n",
    "print(min(a))\n",
    "print(max(a))"
   ]
  },
  {
   "cell_type": "markdown",
   "id": "8448eada",
   "metadata": {},
   "source": [
    "### Set Functions"
   ]
  },
  {
   "cell_type": "markdown",
   "id": "e78d48a1",
   "metadata": {},
   "source": [
    "- Adding elements :-\n",
    "- Insertion in set is done through set.add() function."
   ]
  },
  {
   "cell_type": "code",
   "execution_count": 9,
   "id": "550f4138",
   "metadata": {},
   "outputs": [
    {
     "name": "stdout",
     "output_type": "stream",
     "text": [
      "{'a', 'b', 'c'}\n"
     ]
    }
   ],
   "source": [
    "print(myset)"
   ]
  },
  {
   "cell_type": "code",
   "execution_count": 17,
   "id": "66df86b2",
   "metadata": {},
   "outputs": [
    {
     "name": "stdout",
     "output_type": "stream",
     "text": [
      "{'a', 'b', 'c', 'd'}\n"
     ]
    }
   ],
   "source": [
    "myset.add(\"d\")   # Adding element to the set with add()\n",
    "print(myset)"
   ]
  },
  {
   "cell_type": "code",
   "execution_count": 18,
   "id": "90d3e158",
   "metadata": {},
   "outputs": [
    {
     "name": "stdout",
     "output_type": "stream",
     "text": [
      "{'a', 'b', 'c', 'd'}\n"
     ]
    }
   ],
   "source": [
    "myset.add(\"a\")   # Adding element to the set with add()\n",
    "print(myset)"
   ]
  },
  {
   "cell_type": "code",
   "execution_count": 9,
   "id": "1c294739",
   "metadata": {},
   "outputs": [
    {
     "name": "stdout",
     "output_type": "stream",
     "text": [
      "{'a', 'd', 'c', 'b', 'e'}\n"
     ]
    }
   ],
   "source": [
    "myset.add('e')\n",
    "print(myset)"
   ]
  },
  {
   "cell_type": "code",
   "execution_count": 10,
   "id": "cf05c6a0",
   "metadata": {},
   "outputs": [
    {
     "name": "stdout",
     "output_type": "stream",
     "text": [
      "{'a', 'd', 'c', 'b', 'e'}\n"
     ]
    }
   ],
   "source": [
    "print(myset)"
   ]
  },
  {
   "cell_type": "code",
   "execution_count": 23,
   "id": "0e639dfe",
   "metadata": {},
   "outputs": [
    {
     "name": "stdout",
     "output_type": "stream",
     "text": [
      "{'apple', 'grapes', 'mango'}\n"
     ]
    }
   ],
   "source": [
    "# Creating a Set\n",
    "fruits = {\"apple\", \"mango\", \"grapes\"}\n",
    " \n",
    "print(fruits)\n",
    " \n"
   ]
  },
  {
   "cell_type": "code",
   "execution_count": 24,
   "id": "d9191467",
   "metadata": {},
   "outputs": [
    {
     "name": "stdout",
     "output_type": "stream",
     "text": [
      "{'apple', 'grapes', 'orange', 'mango'}\n"
     ]
    }
   ],
   "source": [
    "# This will add  in the set\n",
    "fruits.add(\"orange\")\n",
    "\n",
    "print(fruits)\n",
    " \n"
   ]
  },
  {
   "cell_type": "code",
   "execution_count": 17,
   "id": "01105f4a",
   "metadata": {},
   "outputs": [
    {
     "name": "stdout",
     "output_type": "stream",
     "text": [
      "{1, 2, 3, 4, 5, 'orange', 'mango', 'apple', 'grapes'}\n"
     ]
    }
   ],
   "source": [
    "# Adding elements to the set using iterator\n",
    "for i in range(1, 6):\n",
    "    fruits.add(i)\n",
    "\n",
    "print(fruits)"
   ]
  },
  {
   "cell_type": "markdown",
   "id": "a4b16cea",
   "metadata": {},
   "source": [
    "- Union :-\n",
    "\n",
    "Two sets can be merged using union() function or | operator."
   ]
  },
  {
   "cell_type": "code",
   "execution_count": 18,
   "id": "968726b0",
   "metadata": {},
   "outputs": [],
   "source": [
    "fruits = {\"apple\", \"mango\", \"grapes\"}\n",
    "vegetables={'potato','onion','carrot'}\n",
    "dishes={'pizza','burger'}"
   ]
  },
  {
   "cell_type": "code",
   "execution_count": 21,
   "id": "4c5e8dca",
   "metadata": {},
   "outputs": [
    {
     "name": "stdout",
     "output_type": "stream",
     "text": [
      "{'potato', 'mango', 'carrot', 'apple', 'grapes', 'onion', 'pizza', 'burger'}\n"
     ]
    }
   ],
   "source": [
    "# Union using union() function\n",
    "all_items=fruits.union(vegetables)\n",
    "print(all_items)"
   ]
  },
  {
   "cell_type": "code",
   "execution_count": 20,
   "id": "8490be34",
   "metadata": {},
   "outputs": [
    {
     "name": "stdout",
     "output_type": "stream",
     "text": [
      "{'potato', 'mango', 'pizza', 'apple', 'grapes', 'burger', 'carrot', 'onion'}\n"
     ]
    }
   ],
   "source": [
    "# Union using \"|\" operator\n",
    "all_items=fruits|dishes|vegetables\n",
    "print(all_items)"
   ]
  },
  {
   "cell_type": "code",
   "execution_count": 23,
   "id": "b7ef1f40",
   "metadata": {},
   "outputs": [
    {
     "name": "stdout",
     "output_type": "stream",
     "text": [
      "{'Tushar', 'Tomer', 'Deepanshu', 'Verma'}\n",
      "{'Tushar', 'Tomer', 'Deepanshu', 'Verma'}\n",
      "{'Tushar', 'Tomer', 'Karan', 'Khanna', 'Deepanshu', 'Verma'}\n",
      "{'Tushar', 'Tomer', 'Karan', 'Khanna', 'Deepanshu', 'Verma'}\n"
     ]
    }
   ],
   "source": [
    "a={'Tushar','Tomer'}\n",
    "b={'Deepanshu','Verma'}\n",
    "c={'Karan','Khanna'}\n",
    "print(a.union(b))\n",
    "print(a|b)\n",
    "print(a.union(b,c))\n",
    "print(a|b|c)"
   ]
  },
  {
   "cell_type": "code",
   "execution_count": 3,
   "id": "b907aefe",
   "metadata": {},
   "outputs": [
    {
     "name": "stdout",
     "output_type": "stream",
     "text": [
      "<class 'dict'> {}\n",
      "<class 'set'> set()\n"
     ]
    }
   ],
   "source": [
    "# Empty Dictionary and Empty Set\n",
    "a={}\n",
    "print(type(a),a)\n",
    "b=set({})\n",
    "print(type(b),b)"
   ]
  },
  {
   "cell_type": "code",
   "execution_count": 4,
   "id": "8bc655a2",
   "metadata": {},
   "outputs": [
    {
     "name": "stdout",
     "output_type": "stream",
     "text": [
      "set()\n"
     ]
    }
   ],
   "source": [
    "x=set({})\n",
    "type(x)\n",
    "print(x)"
   ]
  },
  {
   "cell_type": "code",
   "execution_count": 7,
   "id": "3fc084de",
   "metadata": {},
   "outputs": [
    {
     "name": "stdout",
     "output_type": "stream",
     "text": [
      "{1, 2, 3, 4, 5, 6, 7, 8, 9, 10}\n",
      "{1, 2, 3, 4, 5, 6, 7, 8, 9, 10, 11, 12, 14, 24}\n"
     ]
    }
   ],
   "source": [
    "a=set({})\n",
    "b={1,2,3,4,11,12,14,24}\n",
    "for i in range(1,11):\n",
    "    a.add(i)\n",
    "print(a)\n",
    "d=a|b\n",
    "print(d)"
   ]
  },
  {
   "cell_type": "code",
   "execution_count": 26,
   "id": "b97f30fb",
   "metadata": {},
   "outputs": [
    {
     "name": "stdout",
     "output_type": "stream",
     "text": [
      "set()\n",
      "set2 set()\n"
     ]
    }
   ],
   "source": [
    "# creation of empty set\n",
    "SET1=set()\n",
    "SET2=set()\n",
    "print(SET1)\n",
    "print('set2',SET2)"
   ]
  },
  {
   "cell_type": "code",
   "execution_count": 27,
   "id": "d05e3076",
   "metadata": {},
   "outputs": [
    {
     "name": "stdout",
     "output_type": "stream",
     "text": [
      "<class 'set'>\n"
     ]
    }
   ],
   "source": [
    "print(type(SET1))"
   ]
  },
  {
   "cell_type": "code",
   "execution_count": 28,
   "id": "593cd1cd",
   "metadata": {},
   "outputs": [
    {
     "name": "stdout",
     "output_type": "stream",
     "text": [
      "set()\n"
     ]
    }
   ],
   "source": [
    "print(SET1)"
   ]
  },
  {
   "cell_type": "code",
   "execution_count": 29,
   "id": "3fa21824",
   "metadata": {},
   "outputs": [
    {
     "name": "stdout",
     "output_type": "stream",
     "text": [
      "{0, 1, 2, 3, 4}\n"
     ]
    }
   ],
   "source": [
    "for i in range(5):\n",
    "    SET1.add(i)\n",
    "print(SET1)"
   ]
  },
  {
   "cell_type": "code",
   "execution_count": 30,
   "id": "73b2fb3d",
   "metadata": {},
   "outputs": [
    {
     "name": "stdout",
     "output_type": "stream",
     "text": [
      "{3, 4, 5, 6}\n"
     ]
    }
   ],
   "source": [
    "for i in range(3,7):\n",
    "    SET2.add(i)\n",
    "print(SET2)"
   ]
  },
  {
   "cell_type": "code",
   "execution_count": 36,
   "id": "51e28a59",
   "metadata": {},
   "outputs": [
    {
     "name": "stdout",
     "output_type": "stream",
     "text": [
      "{3.1, 3}\n"
     ]
    }
   ],
   "source": [
    "x={3,3.1}\n",
    "print(x)"
   ]
  },
  {
   "cell_type": "code",
   "execution_count": null,
   "id": "88fafb7f",
   "metadata": {},
   "outputs": [],
   "source": []
  },
  {
   "cell_type": "code",
   "execution_count": 32,
   "id": "b8487015",
   "metadata": {},
   "outputs": [
    {
     "data": {
      "text/plain": [
       "{0, 1, 2, 3, 4, 5, 6}"
      ]
     },
     "execution_count": 32,
     "metadata": {},
     "output_type": "execute_result"
    }
   ],
   "source": [
    "SET1.union(SET2)"
   ]
  },
  {
   "cell_type": "markdown",
   "id": "075ee3e0",
   "metadata": {},
   "source": [
    "- Intersection :-\n",
    "\n",
    "This can be done through intersection() or & operator. Common Elements are selected."
   ]
  },
  {
   "cell_type": "code",
   "execution_count": 31,
   "id": "cba553ed",
   "metadata": {},
   "outputs": [
    {
     "name": "stdout",
     "output_type": "stream",
     "text": [
      "{3, 4}\n"
     ]
    }
   ],
   "source": [
    "# Intersection using intersection() function\n",
    "SET3 = SET1.intersection(SET2)\n",
    "print(SET3)"
   ]
  },
  {
   "cell_type": "code",
   "execution_count": 24,
   "id": "fdb2dd1f",
   "metadata": {},
   "outputs": [
    {
     "name": "stdout",
     "output_type": "stream",
     "text": [
      "{3, 4}\n"
     ]
    }
   ],
   "source": [
    "# Intersection using \"&\" operator\n",
    "SET3 = SET1 & SET2\n",
    "print(SET3)"
   ]
  },
  {
   "cell_type": "code",
   "execution_count": 8,
   "id": "f816c09f",
   "metadata": {},
   "outputs": [
    {
     "name": "stdout",
     "output_type": "stream",
     "text": [
      "{'Tomer'}\n",
      "{'Tomer'}\n"
     ]
    }
   ],
   "source": [
    "a={'Tushar',\"Tomer\"}\n",
    "b={\"Karan\",\"Tomer\"}\n",
    "x=a.intersection(b)\n",
    "print(x)\n",
    "z=a&b\n",
    "print(z)"
   ]
  },
  {
   "cell_type": "code",
   "execution_count": 16,
   "id": "e948afae",
   "metadata": {},
   "outputs": [
    {
     "name": "stdout",
     "output_type": "stream",
     "text": [
      "{3}\n",
      "{3}\n"
     ]
    }
   ],
   "source": [
    "a={1,2,3,4}\n",
    "b={3,4,5,6}\n",
    "c={3,7,8,14}\n",
    "print(a.intersection(b,c))\n",
    "print(a&b&c)"
   ]
  },
  {
   "cell_type": "code",
   "execution_count": 9,
   "id": "f917a17d",
   "metadata": {},
   "outputs": [
    {
     "name": "stdout",
     "output_type": "stream",
     "text": [
      "{'Tomer'}\n",
      "{'Tomer'}\n"
     ]
    }
   ],
   "source": [
    "a={'Tushar',\"Tomer\"}\n",
    "b={\"Karan\",\"Tomer\"}\n",
    "d={\"Tushar\",\"Tomer\"}\n",
    "print(a.intersection(b,d))\n",
    "print(a&b&d)"
   ]
  },
  {
   "cell_type": "markdown",
   "id": "971853d2",
   "metadata": {},
   "source": [
    "- Difference :-\n",
    "\n",
    "To find difference in between sets. Similar to find difference in linked list. This is done through difference() or – operator."
   ]
  },
  {
   "cell_type": "code",
   "execution_count": 39,
   "id": "aa4eb6f0",
   "metadata": {},
   "outputs": [
    {
     "name": "stdout",
     "output_type": "stream",
     "text": [
      "{0, 1, 2, 3, 4}\n",
      "{3, 4, 5, 6}\n"
     ]
    }
   ],
   "source": [
    "print(SET1)\n",
    "print(SET2)"
   ]
  },
  {
   "cell_type": "code",
   "execution_count": 38,
   "id": "b302c01b",
   "metadata": {},
   "outputs": [
    {
     "name": "stdout",
     "output_type": "stream",
     "text": [
      "{0, 1, 2}\n"
     ]
    }
   ],
   "source": [
    "# Difference of two sets using difference() function\n",
    "SET3 = SET1.difference(SET2)\n",
    "# it returns elements that are in set 1 but not in set 2\n",
    "print(SET3)"
   ]
  },
  {
   "cell_type": "code",
   "execution_count": 24,
   "id": "40e5971b",
   "metadata": {},
   "outputs": [
    {
     "name": "stdout",
     "output_type": "stream",
     "text": [
      "{5, 6}\n"
     ]
    }
   ],
   "source": [
    "# Difference of two sets using '-' operator\n",
    "SET3 = SET2 - SET1\n",
    "print(SET3)"
   ]
  },
  {
   "cell_type": "code",
   "execution_count": 17,
   "id": "8590b5bc",
   "metadata": {},
   "outputs": [
    {
     "name": "stdout",
     "output_type": "stream",
     "text": [
      "{0, 1, 2, 8}\n"
     ]
    }
   ],
   "source": [
    "a={0, 1, 2, 3, 4,8}\n",
    "b={3, 4, 5, 6}\n",
    "print(a-b)"
   ]
  },
  {
   "cell_type": "code",
   "execution_count": 10,
   "id": "e3662be8",
   "metadata": {},
   "outputs": [
    {
     "name": "stdout",
     "output_type": "stream",
     "text": [
      "{1, 2}\n",
      "{1, 2}\n"
     ]
    }
   ],
   "source": [
    "a={1,2,4,5}\n",
    "b={4,5,6,7}\n",
    "print(a.difference(b))\n",
    "print(a-b)"
   ]
  },
  {
   "cell_type": "code",
   "execution_count": 40,
   "id": "445c7780",
   "metadata": {},
   "outputs": [
    {
     "name": "stdout",
     "output_type": "stream",
     "text": [
      "{'Tushar', 'Tomer'}\n"
     ]
    }
   ],
   "source": [
    "a={'Tushar','Karan'}\n",
    "b={'Tomer','Karan'}\n",
    "c=a-b\n",
    "d=b-a\n",
    "print(c|d)"
   ]
  },
  {
   "cell_type": "markdown",
   "id": "46486be0",
   "metadata": {},
   "source": [
    "- Clearing sets :-\n",
    "\n",
    "Clear() method empties the whole set."
   ]
  },
  {
   "cell_type": "code",
   "execution_count": 25,
   "id": "a30102ce",
   "metadata": {},
   "outputs": [
    {
     "name": "stdout",
     "output_type": "stream",
     "text": [
      "{1, 2, 3, 4, 5, 6}\n",
      "set()\n"
     ]
    }
   ],
   "source": [
    "# Use of clear()\n",
    "set1 = {1,2,3,4,5,6}\n",
    "SeT=set1\n",
    "print(set1)\n",
    " \n",
    "# This method will remove all the elements of the set\n",
    "set1.clear()\n",
    " \n",
    "print(set1)"
   ]
  },
  {
   "cell_type": "code",
   "execution_count": 12,
   "id": "e8aba56c",
   "metadata": {},
   "outputs": [
    {
     "name": "stdout",
     "output_type": "stream",
     "text": [
      "{1, 2, 3, 4, 5, 6}\n",
      "set()\n"
     ]
    }
   ],
   "source": [
    "# It is also known as shallow copy\n",
    "set1 = {1,2,3,4,5,6}\n",
    "SeT=set1\n",
    "print(set1)\n",
    " \n",
    "# This method will remove all the elements of the set\n",
    "set1.clear()\n",
    " \n",
    "print(set1)"
   ]
  },
  {
   "cell_type": "code",
   "execution_count": 26,
   "id": "71823aa3",
   "metadata": {},
   "outputs": [
    {
     "name": "stdout",
     "output_type": "stream",
     "text": [
      "{1, 2, 3, 4, 5, 6}\n",
      "set()\n",
      "{1, 2, 3, 4, 5, 6}\n"
     ]
    }
   ],
   "source": [
    "# It is also Known as Deep copy\n",
    "set1 = {1,2,3,4,5,6}\n",
    "SeT=set1.copy()\n",
    "print(set1)\n",
    " \n",
    "# This method will remove all the elements of the set\n",
    "set1.clear()\n",
    " \n",
    "print(set1)\n",
    "print(SeT)"
   ]
  },
  {
   "cell_type": "code",
   "execution_count": 31,
   "id": "ffb71781",
   "metadata": {},
   "outputs": [
    {
     "name": "stdout",
     "output_type": "stream",
     "text": [
      "set()\n"
     ]
    }
   ],
   "source": [
    "print(SeT)"
   ]
  },
  {
   "cell_type": "code",
   "execution_count": 28,
   "id": "873cc4b4",
   "metadata": {},
   "outputs": [
    {
     "name": "stdout",
     "output_type": "stream",
     "text": [
      "a\n",
      "{'d', 'c', 'b'}\n"
     ]
    }
   ],
   "source": [
    "# pop it removes the item in set randomly\n",
    "A = {'a', 'b', 'c', 'd'}\n",
    "removed_item = A.pop()\n",
    "print(removed_item)\n",
    "print(A)\n"
   ]
  },
  {
   "cell_type": "code",
   "execution_count": 36,
   "id": "baf2942d",
   "metadata": {},
   "outputs": [
    {
     "name": "stdout",
     "output_type": "stream",
     "text": [
      "True\n",
      "False\n",
      "True\n",
      "False\n"
     ]
    }
   ],
   "source": [
    "# subset\n",
    "A = {1, 2, 3}\n",
    "B = {1, 2, 3, 4, 5}\n",
    "\n",
    "# all items of A are present in B\n",
    "print(A.issubset(B))\n",
    "print(B.issubset(A))\n",
    "print(B.issuperset(A))\n",
    "print(A.issuperset(B))"
   ]
  },
  {
   "cell_type": "code",
   "execution_count": null,
   "id": "4f4f2b32",
   "metadata": {},
   "outputs": [],
   "source": [
    "1000-3000\n",
    "1000"
   ]
  },
  {
   "cell_type": "markdown",
   "id": "d90dd5e5",
   "metadata": {},
   "source": [
    "# \"isdisjoint\"  ( isdisjoint check all the element of variable a is different from variable b if it is right then print True else False)"
   ]
  },
  {
   "cell_type": "code",
   "execution_count": 38,
   "id": "eda0691c",
   "metadata": {},
   "outputs": [
    {
     "name": "stdout",
     "output_type": "stream",
     "text": [
      "True\n"
     ]
    }
   ],
   "source": [
    "A={1,2,3,4,5}\n",
    "B={6,7,8,9,10,11}\n",
    "print(A.isdisjoint(B))"
   ]
  },
  {
   "cell_type": "code",
   "execution_count": 21,
   "id": "9c0a5eea",
   "metadata": {},
   "outputs": [
    {
     "name": "stdout",
     "output_type": "stream",
     "text": [
      "True\n",
      "True\n"
     ]
    }
   ],
   "source": [
    "a={\"Tushar\",\"Tomer\"}\n",
    "b={\"Karan\",\"Khanna\"}\n",
    "print(a.isdisjoint(b))\n",
    "print(b.isdisjoint(a))"
   ]
  },
  {
   "cell_type": "code",
   "execution_count": 24,
   "id": "f55b90a3",
   "metadata": {},
   "outputs": [
    {
     "ename": "TypeError",
     "evalue": "set.isdisjoint() takes exactly one argument (2 given)",
     "output_type": "error",
     "traceback": [
      "\u001b[1;31m---------------------------------------------------------------------------\u001b[0m",
      "\u001b[1;31mTypeError\u001b[0m                                 Traceback (most recent call last)",
      "Input \u001b[1;32mIn [24]\u001b[0m, in \u001b[0;36m<cell line: 4>\u001b[1;34m()\u001b[0m\n\u001b[0;32m      2\u001b[0m b\u001b[38;5;241m=\u001b[39m{\u001b[38;5;124m\"\u001b[39m\u001b[38;5;124mKaran\u001b[39m\u001b[38;5;124m\"\u001b[39m,\u001b[38;5;124m\"\u001b[39m\u001b[38;5;124mKhanna\u001b[39m\u001b[38;5;124m\"\u001b[39m}\n\u001b[0;32m      3\u001b[0m d\u001b[38;5;241m=\u001b[39m{\u001b[38;5;124m\"\u001b[39m\u001b[38;5;124mTushar\u001b[39m\u001b[38;5;124m\"\u001b[39m,\u001b[38;5;124m\"\u001b[39m\u001b[38;5;124mTomer\u001b[39m\u001b[38;5;124m\"\u001b[39m}\n\u001b[1;32m----> 4\u001b[0m \u001b[38;5;28mprint\u001b[39m(\u001b[43ma\u001b[49m\u001b[38;5;241;43m.\u001b[39;49m\u001b[43misdisjoint\u001b[49m\u001b[43m(\u001b[49m\u001b[43mb\u001b[49m\u001b[43m,\u001b[49m\u001b[43md\u001b[49m\u001b[43m)\u001b[49m)\n",
      "\u001b[1;31mTypeError\u001b[0m: set.isdisjoint() takes exactly one argument (2 given)"
     ]
    }
   ],
   "source": [
    "a={\"Tushar\",\"Tomer\"}\n",
    "b={\"Karan\",\"Khanna\"}\n",
    "d={\"Tushar\",\"Tomer\"}\n",
    "print(a.isdisjoint(b,d)) # It take only one argument"
   ]
  },
  {
   "cell_type": "code",
   "execution_count": null,
   "id": "0cbec8d2",
   "metadata": {},
   "outputs": [],
   "source": []
  },
  {
   "cell_type": "markdown",
   "id": "8ac9bf07",
   "metadata": {},
   "source": [
    "# Find those number who is divisible by 2 in the range of 1000 to 3000 and make a list ?\n",
    "# Note : Make sure ever digit is divisible 2 of any number .\n",
    "# Example : 2244 is a number expand this number .\n",
    "# 2%2=0\n",
    "# 2%2=0\n",
    "# 4%2=0\n",
    "# 4%2=0\n",
    "# All digits is divisible by 2 ."
   ]
  },
  {
   "cell_type": "code",
   "execution_count": 5,
   "id": "e56a4fa8",
   "metadata": {},
   "outputs": [
    {
     "name": "stdout",
     "output_type": "stream",
     "text": [
      "['2000', '2002', '2004', '2006', '2008', '2020', '2022', '2024', '2026', '2028', '2040', '2042', '2044', '2046', '2048', '2060', '2062', '2064', '2066', '2068', '2080', '2082', '2084', '2086', '2088', '2200', '2202', '2204', '2206', '2208', '2220', '2222', '2224', '2226', '2228', '2240', '2242', '2244', '2246', '2248', '2260', '2262', '2264', '2266', '2268', '2280', '2282', '2284', '2286', '2288', '2400', '2402', '2404', '2406', '2408', '2420', '2422', '2424', '2426', '2428', '2440', '2442', '2444', '2446', '2448', '2460', '2462', '2464', '2466', '2468', '2480', '2482', '2484', '2486', '2488', '2600', '2602', '2604', '2606', '2608', '2620', '2622', '2624', '2626', '2628', '2640', '2642', '2644', '2646', '2648', '2660', '2662', '2664', '2666', '2668', '2680', '2682', '2684', '2686', '2688', '2800', '2802', '2804', '2806', '2808', '2820', '2822', '2824', '2826', '2828', '2840', '2842', '2844', '2846', '2848', '2860', '2862', '2864', '2866', '2868', '2880', '2882', '2884', '2886', '2888']\n"
     ]
    }
   ],
   "source": [
    "x=[]\n",
    "for i in range(1000,3001):\n",
    "    a=str(i)\n",
    "    if int(a[0])%2==0 and int(a[1])%2==0 and int(a[2])%2==0 and int(a[3])%2==0:\n",
    "        x=x+[a]\n",
    "    else:\n",
    "        pass\n",
    "print(x)    "
   ]
  },
  {
   "cell_type": "code",
   "execution_count": 1,
   "id": "851fd91a",
   "metadata": {},
   "outputs": [
    {
     "name": "stdout",
     "output_type": "stream",
     "text": [
      "9\n",
      "9\n"
     ]
    }
   ],
   "source": [
    "x='deepanshu'\n",
    "print(len(x))\n",
    "i=0\n",
    "while x[i:]:\n",
    "    i=i+1\n",
    "print(i)"
   ]
  },
  {
   "cell_type": "code",
   "execution_count": 49,
   "id": "38280683",
   "metadata": {},
   "outputs": [
    {
     "name": "stdout",
     "output_type": "stream",
     "text": [
      "anagram\n"
     ]
    }
   ],
   "source": [
    "# anagram\n",
    "s1='silent'\n",
    "s2='listen'\n",
    "# if s1.isupper()\n",
    "s1=sorted(s1)\n",
    "s2=sorted(s2)\n",
    "if s1==s2:\n",
    "    print('anagram')\n",
    "else:\n",
    "    print('not ana')"
   ]
  },
  {
   "cell_type": "code",
   "execution_count": 15,
   "id": "9b85420f",
   "metadata": {},
   "outputs": [
    {
     "name": "stdout",
     "output_type": "stream",
     "text": [
      "True\n"
     ]
    }
   ],
   "source": [
    "s1='silent'\n",
    "a=set(s1)\n",
    "s2='listen'\n",
    "b=set(s2)\n",
    "print(b.issubset(a))"
   ]
  },
  {
   "cell_type": "code",
   "execution_count": 57,
   "id": "8da1db3d",
   "metadata": {},
   "outputs": [
    {
     "name": "stdout",
     "output_type": "stream",
     "text": [
      "TSUHAR\n",
      "TUSHAR\n",
      "Yes a and b is a anagram:\n"
     ]
    }
   ],
   "source": [
    "a='tSuhar'\n",
    "b='TushAr'\n",
    "x=a.upper()\n",
    "y=b.upper()\n",
    "print(x)\n",
    "print(y)\n",
    "c=sorted(x)\n",
    "d=sorted(y)\n",
    "if c==d:\n",
    "    print(\"Yes a and b is a anagram:\")"
   ]
  },
  {
   "cell_type": "code",
   "execution_count": 38,
   "id": "2867274d",
   "metadata": {},
   "outputs": [
    {
     "data": {
      "text/plain": [
       "'deepanshu'"
      ]
     },
     "execution_count": 38,
     "metadata": {},
     "output_type": "execute_result"
    }
   ],
   "source": [
    "x='deepanshu'\n",
    "i=0\n",
    "x[1:]\n",
    "# i+=1"
   ]
  },
  {
   "cell_type": "code",
   "execution_count": 35,
   "id": "cdf96d53",
   "metadata": {},
   "outputs": [
    {
     "name": "stdout",
     "output_type": "stream",
     "text": [
      "[1, 2, 3, 4, 5, 6, 7, 8, 9, 56]\n"
     ]
    }
   ],
   "source": [
    "l=[1,2,3,56,7,4,2,56,6,1,5,8,9,1,5,2,5,2,6,2]\n",
    "L=[]\n",
    "print(list(set(l)))\n"
   ]
  },
  {
   "cell_type": "code",
   "execution_count": null,
   "id": "5ab809ac",
   "metadata": {},
   "outputs": [],
   "source": []
  },
  {
   "cell_type": "code",
   "execution_count": null,
   "id": "d81281e0",
   "metadata": {},
   "outputs": [],
   "source": []
  },
  {
   "cell_type": "code",
   "execution_count": null,
   "id": "226558e6",
   "metadata": {},
   "outputs": [],
   "source": []
  },
  {
   "cell_type": "code",
   "execution_count": null,
   "id": "99cf53a4",
   "metadata": {},
   "outputs": [],
   "source": []
  },
  {
   "cell_type": "code",
   "execution_count": 2,
   "id": "c9f2c38d",
   "metadata": {},
   "outputs": [
    {
     "name": "stdout",
     "output_type": "stream",
     "text": [
      "enter asilent\n",
      "enterlistan\n",
      "anagram\n",
      "anagram\n",
      "anagram\n",
      "not anagram\n",
      "anagram\n",
      "anagram\n"
     ]
    }
   ],
   "source": [
    "# anagram\n",
    "# silent\n",
    "# listn\n",
    "a=input('enter a')\n",
    "b=input('enter')\n",
    "c=''\n",
    "d=''\n",
    "for i in a:\n",
    "    if i.isupper():\n",
    "        i=i.lower()\n",
    "        c+=i\n",
    "    else:\n",
    "        c+=i\n",
    "\n",
    "for j in b:\n",
    "    if j.isupper():\n",
    "        j=j.lower()\n",
    "        d+=j\n",
    "    else:\n",
    "        d+=j\n",
    "        \n",
    "        \n",
    "\n",
    "if len(c)==len(d):\n",
    "    for i in c:\n",
    "        if i in d:\n",
    "            for k in d:\n",
    "                if k in c:\n",
    "                    print('anagram')\n",
    "                    break\n",
    "                else:\n",
    "                    print('not anagram')\n",
    "        else:\n",
    "            print('not anagram' )\n",
    "            \n",
    "else:\n",
    "    print('not anagram')\n",
    "    \n",
    "\n",
    "\n",
    "\n",
    "\n"
   ]
  },
  {
   "cell_type": "code",
   "execution_count": 76,
   "id": "62483b97",
   "metadata": {},
   "outputs": [
    {
     "name": "stdout",
     "output_type": "stream",
     "text": [
      "Enter 1st stringSilant\n",
      "Enter 2nd stringlisten\n",
      "{'l', 'e', 's', 'n', 'i', 't'}\n",
      "{'S', 'a', 'l', 'n', 'i', 't'}\n",
      "{'S', 'a'}\n",
      "string is not equal\n"
     ]
    }
   ],
   "source": [
    "a=set()\n",
    "m=set()\n",
    "l=set()\n",
    "n=input(\"Enter 1st string\")\n",
    "b=input(\"Enter 2nd string\")\n",
    "for i in range(0,len(n)):\n",
    "    a.add(n[i])\n",
    "#     k+=1\n",
    "for z in range(0,len(b)):\n",
    "    m.add(b[z])\n",
    "#     t+=1\n",
    "print(m)\n",
    "print(a)\n",
    "l=a-m\n",
    "print(l)\n",
    "if(l==set()):\n",
    "    print(\"string is equal\")\n",
    "else:\n",
    "    print(\"string is not equal\")"
   ]
  },
  {
   "cell_type": "code",
   "execution_count": null,
   "id": "1e0eb63a",
   "metadata": {},
   "outputs": [],
   "source": [
    "5\n",
    "85\n",
    "45\n",
    "56\n",
    "65\n",
    "46 "
   ]
  },
  {
   "cell_type": "code",
   "execution_count": 68,
   "id": "cec3f158",
   "metadata": {},
   "outputs": [
    {
     "name": "stdout",
     "output_type": "stream",
     "text": [
      "5\n",
      "enter n85\n",
      "enter n45\n",
      "enter n15\n",
      "enter n25\n",
      "enter n35\n",
      "No\n"
     ]
    }
   ],
   "source": [
    "N=int(input())\n",
    "t=''\n",
    "for i in range(1,N+1):\n",
    "    n=int(input('enter n = '))\n",
    "    t=t+str(n)[-1]\n",
    "if int(t)%10==0:\n",
    "    print('yes')\n",
    "else:\n",
    "    print('No')"
   ]
  },
  {
   "cell_type": "code",
   "execution_count": 74,
   "id": "168f9dd6",
   "metadata": {},
   "outputs": [
    {
     "name": "stdout",
     "output_type": "stream",
     "text": [
      "2\n"
     ]
    }
   ],
   "source": [
    "x='249374'\n",
    "y=int(x[0])\n",
    "z=y%10\n",
    "print(z)"
   ]
  },
  {
   "cell_type": "code",
   "execution_count": 2,
   "id": "211302d5",
   "metadata": {},
   "outputs": [
    {
     "data": {
      "text/plain": [
       "2"
      ]
     },
     "execution_count": 2,
     "metadata": {},
     "output_type": "execute_result"
    }
   ],
   "source": [
    "2%10"
   ]
  },
  {
   "cell_type": "code",
   "execution_count": 70,
   "id": "ade120dc",
   "metadata": {},
   "outputs": [
    {
     "name": "stdout",
     "output_type": "stream",
     "text": [
      "<class 'int'>\n"
     ]
    }
   ],
   "source": [
    "print(type(x))"
   ]
  },
  {
   "cell_type": "code",
   "execution_count": 3,
   "id": "e5541290",
   "metadata": {},
   "outputs": [
    {
     "name": "stdout",
     "output_type": "stream",
     "text": [
      "<class 'set'>\n"
     ]
    }
   ],
   "source": [
    "a=set()\n",
    "print(type(a))"
   ]
  },
  {
   "cell_type": "code",
   "execution_count": 4,
   "id": "8a27d943",
   "metadata": {},
   "outputs": [],
   "source": [
    "a.add('apple')"
   ]
  },
  {
   "cell_type": "code",
   "execution_count": 5,
   "id": "863a80ad",
   "metadata": {},
   "outputs": [
    {
     "name": "stdout",
     "output_type": "stream",
     "text": [
      "{'apple'}\n"
     ]
    }
   ],
   "source": [
    "print(a)"
   ]
  },
  {
   "cell_type": "code",
   "execution_count": 47,
   "id": "71f9cd66",
   "metadata": {},
   "outputs": [
    {
     "name": "stdout",
     "output_type": "stream",
     "text": [
      "[1, 2, 3, 4, 5, 6]\n"
     ]
    }
   ],
   "source": [
    "L=[1,1,2,1,2,4,2,4,3,6,2,5,2]\n",
    "print(list(set(L)))"
   ]
  },
  {
   "cell_type": "code",
   "execution_count": 97,
   "id": "5e0d4fc8",
   "metadata": {},
   "outputs": [],
   "source": [
    "D='madamm'"
   ]
  },
  {
   "cell_type": "code",
   "execution_count": 98,
   "id": "fdf24246",
   "metadata": {},
   "outputs": [
    {
     "data": {
      "text/plain": [
       "{'M': 2, 'a': 2, 'd': 1}"
      ]
     },
     "execution_count": 98,
     "metadata": {},
     "output_type": "execute_result"
    }
   ],
   "source": [
    "{'M':2,'a':2,'d':1}"
   ]
  },
  {
   "cell_type": "code",
   "execution_count": 99,
   "id": "ca03cba4",
   "metadata": {},
   "outputs": [
    {
     "name": "stdout",
     "output_type": "stream",
     "text": [
      "{'m': 3, 'a': 2, 'd': 1}\n"
     ]
    }
   ],
   "source": [
    "x={i:D.count(i) for i in D }\n",
    "print(x)"
   ]
  },
  {
   "cell_type": "code",
   "execution_count": 100,
   "id": "ac95b2d2",
   "metadata": {},
   "outputs": [
    {
     "name": "stdout",
     "output_type": "stream",
     "text": [
      "{'m': 3, 'a': 2, 'd': 1}\n"
     ]
    }
   ],
   "source": [
    "Y={}\n",
    "for i in D:\n",
    "    Y[i]=D.count(i)\n",
    "print(Y)"
   ]
  }
 ],
 "metadata": {
  "kernelspec": {
   "display_name": "Python 3 (ipykernel)",
   "language": "python",
   "name": "python3"
  },
  "language_info": {
   "codemirror_mode": {
    "name": "ipython",
    "version": 3
   },
   "file_extension": ".py",
   "mimetype": "text/x-python",
   "name": "python",
   "nbconvert_exporter": "python",
   "pygments_lexer": "ipython3",
   "version": "3.9.12"
  }
 },
 "nbformat": 4,
 "nbformat_minor": 5
}
